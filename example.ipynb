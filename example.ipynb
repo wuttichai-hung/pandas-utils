{
 "cells": [
  {
   "cell_type": "code",
   "execution_count": 1,
   "metadata": {},
   "outputs": [
    {
     "data": {
      "text/html": [
       "<div>\n",
       "<style scoped>\n",
       "    .dataframe tbody tr th:only-of-type {\n",
       "        vertical-align: middle;\n",
       "    }\n",
       "\n",
       "    .dataframe tbody tr th {\n",
       "        vertical-align: top;\n",
       "    }\n",
       "\n",
       "    .dataframe thead th {\n",
       "        text-align: right;\n",
       "    }\n",
       "</style>\n",
       "<table border=\"1\" class=\"dataframe\">\n",
       "  <thead>\n",
       "    <tr style=\"text-align: right;\">\n",
       "      <th></th>\n",
       "      <th>name</th>\n",
       "      <th>value</th>\n",
       "      <th>birth_dt</th>\n",
       "      <th>value_str</th>\n",
       "    </tr>\n",
       "  </thead>\n",
       "  <tbody>\n",
       "    <tr>\n",
       "      <th>0</th>\n",
       "      <td>a</td>\n",
       "      <td>350415454</td>\n",
       "      <td>2021-01-12</td>\n",
       "      <td>12,323</td>\n",
       "    </tr>\n",
       "    <tr>\n",
       "      <th>1</th>\n",
       "      <td>b</td>\n",
       "      <td>30745</td>\n",
       "      <td>2021-02-15</td>\n",
       "      <td></td>\n",
       "    </tr>\n",
       "  </tbody>\n",
       "</table>\n",
       "</div>"
      ],
      "text/plain": [
       "  name      value   birth_dt value_str\n",
       "0    a  350415454 2021-01-12   12,323 \n",
       "1    b      30745 2021-02-15          "
      ]
     },
     "execution_count": 1,
     "metadata": {},
     "output_type": "execute_result"
    }
   ],
   "source": [
    "from pd_utils import format_number, last_day, convert_float, explore_df\n",
    "import pandas as pd\n",
    "from datetime import datetime\n",
    "df = pd.DataFrame(columns=['name', 'value', 'birth_dt', 'value_str'], data=[['a', 350415454, datetime(2021, 1, 12), '12,323 '], ['b', 30745, datetime(2021, 2, 15), \"\"]])\n",
    "df"
   ]
  },
  {
   "cell_type": "code",
   "execution_count": 2,
   "metadata": {},
   "outputs": [
    {
     "data": {
      "text/html": [
       "<div>\n",
       "<style scoped>\n",
       "    .dataframe tbody tr th:only-of-type {\n",
       "        vertical-align: middle;\n",
       "    }\n",
       "\n",
       "    .dataframe tbody tr th {\n",
       "        vertical-align: top;\n",
       "    }\n",
       "\n",
       "    .dataframe thead th {\n",
       "        text-align: right;\n",
       "    }\n",
       "</style>\n",
       "<table border=\"1\" class=\"dataframe\">\n",
       "  <thead>\n",
       "    <tr style=\"text-align: right;\">\n",
       "      <th></th>\n",
       "      <th>name</th>\n",
       "      <th>value</th>\n",
       "      <th>birth_dt</th>\n",
       "      <th>value_str</th>\n",
       "      <th>value_fomat_number</th>\n",
       "    </tr>\n",
       "  </thead>\n",
       "  <tbody>\n",
       "    <tr>\n",
       "      <th>0</th>\n",
       "      <td>a</td>\n",
       "      <td>350415454</td>\n",
       "      <td>2021-01-12</td>\n",
       "      <td>12,323</td>\n",
       "      <td>350.4M</td>\n",
       "    </tr>\n",
       "    <tr>\n",
       "      <th>1</th>\n",
       "      <td>b</td>\n",
       "      <td>30745</td>\n",
       "      <td>2021-02-15</td>\n",
       "      <td></td>\n",
       "      <td>30.7k</td>\n",
       "    </tr>\n",
       "  </tbody>\n",
       "</table>\n",
       "</div>"
      ],
      "text/plain": [
       "  name      value   birth_dt value_str value_fomat_number\n",
       "0    a  350415454 2021-01-12   12,323              350.4M\n",
       "1    b      30745 2021-02-15                        30.7k"
      ]
     },
     "execution_count": 2,
     "metadata": {},
     "output_type": "execute_result"
    }
   ],
   "source": [
    "# format_number\n",
    "df['value_fomat_number'] = df['value'].apply(lambda x: format_number(x))\n",
    "df"
   ]
  },
  {
   "cell_type": "code",
   "execution_count": 3,
   "metadata": {},
   "outputs": [
    {
     "data": {
      "text/html": [
       "<div>\n",
       "<style scoped>\n",
       "    .dataframe tbody tr th:only-of-type {\n",
       "        vertical-align: middle;\n",
       "    }\n",
       "\n",
       "    .dataframe tbody tr th {\n",
       "        vertical-align: top;\n",
       "    }\n",
       "\n",
       "    .dataframe thead th {\n",
       "        text-align: right;\n",
       "    }\n",
       "</style>\n",
       "<table border=\"1\" class=\"dataframe\">\n",
       "  <thead>\n",
       "    <tr style=\"text-align: right;\">\n",
       "      <th></th>\n",
       "      <th>name</th>\n",
       "      <th>value</th>\n",
       "      <th>birth_dt</th>\n",
       "      <th>value_str</th>\n",
       "      <th>value_fomat_number</th>\n",
       "      <th>birth_dt_last_day</th>\n",
       "    </tr>\n",
       "  </thead>\n",
       "  <tbody>\n",
       "    <tr>\n",
       "      <th>0</th>\n",
       "      <td>a</td>\n",
       "      <td>350415454</td>\n",
       "      <td>2021-01-12</td>\n",
       "      <td>12,323</td>\n",
       "      <td>350.4M</td>\n",
       "      <td>2021-01-31</td>\n",
       "    </tr>\n",
       "    <tr>\n",
       "      <th>1</th>\n",
       "      <td>b</td>\n",
       "      <td>30745</td>\n",
       "      <td>2021-02-15</td>\n",
       "      <td></td>\n",
       "      <td>30.7k</td>\n",
       "      <td>2021-02-28</td>\n",
       "    </tr>\n",
       "  </tbody>\n",
       "</table>\n",
       "</div>"
      ],
      "text/plain": [
       "  name      value   birth_dt value_str value_fomat_number birth_dt_last_day\n",
       "0    a  350415454 2021-01-12   12,323              350.4M        2021-01-31\n",
       "1    b      30745 2021-02-15                        30.7k        2021-02-28"
      ]
     },
     "execution_count": 3,
     "metadata": {},
     "output_type": "execute_result"
    }
   ],
   "source": [
    "# last_day\n",
    "df['birth_dt_last_day'] = last_day(df['birth_dt'])\n",
    "df"
   ]
  },
  {
   "cell_type": "code",
   "execution_count": 4,
   "metadata": {},
   "outputs": [
    {
     "data": {
      "text/html": [
       "<div>\n",
       "<style scoped>\n",
       "    .dataframe tbody tr th:only-of-type {\n",
       "        vertical-align: middle;\n",
       "    }\n",
       "\n",
       "    .dataframe tbody tr th {\n",
       "        vertical-align: top;\n",
       "    }\n",
       "\n",
       "    .dataframe thead th {\n",
       "        text-align: right;\n",
       "    }\n",
       "</style>\n",
       "<table border=\"1\" class=\"dataframe\">\n",
       "  <thead>\n",
       "    <tr style=\"text-align: right;\">\n",
       "      <th></th>\n",
       "      <th>name</th>\n",
       "      <th>value</th>\n",
       "      <th>birth_dt</th>\n",
       "      <th>value_str</th>\n",
       "      <th>value_fomat_number</th>\n",
       "      <th>birth_dt_last_day</th>\n",
       "      <th>value_convert_float</th>\n",
       "    </tr>\n",
       "  </thead>\n",
       "  <tbody>\n",
       "    <tr>\n",
       "      <th>0</th>\n",
       "      <td>a</td>\n",
       "      <td>350415454</td>\n",
       "      <td>2021-01-12</td>\n",
       "      <td>12,323</td>\n",
       "      <td>350.4M</td>\n",
       "      <td>2021-01-31</td>\n",
       "      <td>12323.0</td>\n",
       "    </tr>\n",
       "    <tr>\n",
       "      <th>1</th>\n",
       "      <td>b</td>\n",
       "      <td>30745</td>\n",
       "      <td>2021-02-15</td>\n",
       "      <td></td>\n",
       "      <td>30.7k</td>\n",
       "      <td>2021-02-28</td>\n",
       "      <td>NaN</td>\n",
       "    </tr>\n",
       "  </tbody>\n",
       "</table>\n",
       "</div>"
      ],
      "text/plain": [
       "  name      value   birth_dt value_str value_fomat_number birth_dt_last_day  \\\n",
       "0    a  350415454 2021-01-12   12,323              350.4M        2021-01-31   \n",
       "1    b      30745 2021-02-15                        30.7k        2021-02-28   \n",
       "\n",
       "   value_convert_float  \n",
       "0              12323.0  \n",
       "1                  NaN  "
      ]
     },
     "execution_count": 4,
     "metadata": {},
     "output_type": "execute_result"
    }
   ],
   "source": [
    "# convert_float\n",
    "df['value_convert_float'] = convert_float(df['value_str'])\n",
    "df"
   ]
  },
  {
   "cell_type": "code",
   "execution_count": 5,
   "metadata": {},
   "outputs": [
    {
     "name": "stdout",
     "output_type": "stream",
     "text": [
      "********************************************************************************\n",
      "a    1\n",
      "b    1\n",
      "Name: name, dtype: int64\n",
      "********************************************************************************\n",
      "350415454    1\n",
      "30745        1\n",
      "Name: value, dtype: int64\n",
      "********************************************************************************\n",
      "2021-01-12    1\n",
      "2021-02-15    1\n",
      "Name: birth_dt, dtype: int64\n",
      "********************************************************************************\n",
      "12,323     1\n",
      "           1\n",
      "Name: value_str, dtype: int64\n",
      "********************************************************************************\n",
      "350.4M    1\n",
      "30.7k     1\n",
      "Name: value_fomat_number, dtype: int64\n",
      "********************************************************************************\n",
      "2021-01-31    1\n",
      "2021-02-28    1\n",
      "Name: birth_dt_last_day, dtype: int64\n",
      "********************************************************************************\n",
      "12323.0    1\n",
      "Name: value_convert_float, dtype: int64\n"
     ]
    }
   ],
   "source": [
    "# explore_df\n",
    "explore_df(df)"
   ]
  },
  {
   "cell_type": "code",
   "execution_count": null,
   "metadata": {},
   "outputs": [],
   "source": []
  },
  {
   "cell_type": "code",
   "execution_count": null,
   "metadata": {},
   "outputs": [],
   "source": []
  }
 ],
 "metadata": {
  "kernelspec": {
   "display_name": "hung",
   "language": "python",
   "name": "python3"
  },
  "language_info": {
   "codemirror_mode": {
    "name": "ipython",
    "version": 3
   },
   "file_extension": ".py",
   "mimetype": "text/x-python",
   "name": "python",
   "nbconvert_exporter": "python",
   "pygments_lexer": "ipython3",
   "version": "3.10.8"
  },
  "orig_nbformat": 4
 },
 "nbformat": 4,
 "nbformat_minor": 2
}
